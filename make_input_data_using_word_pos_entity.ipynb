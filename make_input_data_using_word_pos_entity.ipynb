{
  "nbformat": 4,
  "nbformat_minor": 0,
  "metadata": {
    "colab": {
      "name": "make_input_data_using_word_pos_entity.ipynb",
      "provenance": [],
      "private_outputs": true,
      "collapsed_sections": [],
      "authorship_tag": "ABX9TyODuPyYNF/8YbuFTbnJf2xk",
      "include_colab_link": true
    },
    "kernelspec": {
      "name": "python3",
      "display_name": "Python 3"
    }
  },
  "cells": [
    {
      "cell_type": "markdown",
      "metadata": {
        "id": "view-in-github",
        "colab_type": "text"
      },
      "source": [
        "<a href=\"https://colab.research.google.com/github/wisenutgolead/wisenut_NER/blob/master/make_input_data_using_word_pos_entity.ipynb\" target=\"_parent\"><img src=\"https://colab.research.google.com/assets/colab-badge.svg\" alt=\"Open In Colab\"/></a>"
      ]
    },
    {
      "cell_type": "markdown",
      "metadata": {
        "id": "IyLeg3y589Ht",
        "colab_type": "text"
      },
      "source": [
        "json 데이터 가져오기\n"
      ]
    },
    {
      "cell_type": "code",
      "metadata": {
        "id": "63ZQAVkG8osw",
        "colab_type": "code",
        "colab": {}
      },
      "source": [
        "import json\n",
        "import re\n",
        "\n",
        "# json 파일 열기\n",
        "# json 파일 경로는 알아서 수정\n",
        "with open('/content/drive/My Drive/와이즈넛/RESULT/annotations/chosj/2013_reviewed_deleted_1.txt.adm.json', 'r', encoding='utf-8') as f:\n",
        "  json_data = json.load(f)\n",
        "\n",
        "datas = json_data['data'] # 문장들만 가져오기\n",
        "attributes = json_data['attributes']['entities']['items'] # 단어의 정보를 담고 있는 딕셔너리들을 가져온다\n",
        "\n",
        "# attributes 순서를 전체 문장에서 나오는 순서로 바꾼다(start index 기준으로 오름차순 정렬)\n",
        "attributes = sorted(attributes, key=lambda x : x['mentions'][0]['startOffset'])\n",
        "\n",
        "\n",
        "# 함수\n",
        "def get_start_index(i):\n",
        "  return attributes[i]['mentions'][0]['startOffset']\n",
        "\n",
        "def get_end_index(i):\n",
        "  return attributes[i]['mentions'][0]['endOffset']\n",
        "\n",
        "def get_entity(i):\n",
        "  return attributes[i]['type']\n",
        "\n",
        "\n",
        "entities = [get_entity(i) for i in range(len(attributes))] # 문서에 있는 모든 entity(문서에 나오는 순서로 저장되어 있다)\n",
        "entity_words = [datas[get_start_index(i):get_end_index(i)].strip().replace(' ', '') for i in range(len(attributes))] # entity인 단어\n",
        "\n",
        "sentences = re.split('\\r\\n|\\u3000', datas) # 정규표현식을 이용해 문서를 문장으로 나눈다\n",
        "sentences = [x for x in sentences if len(x) != 0] # 길이가 0인 문장 제거"
      ],
      "execution_count": 0,
      "outputs": []
    },
    {
      "cell_type": "markdown",
      "metadata": {
        "id": "wng29LVG9E2y",
        "colab_type": "text"
      },
      "source": [
        "mecab 설치</br></br>\n",
        "코랩(리눅스)에서만 설치 가능. 윈도우 환경에서 설치하려면 [여기](https://cleancode-ws.tistory.com/97) 참고"
      ]
    },
    {
      "cell_type": "code",
      "metadata": {
        "id": "IfjEyMob9ETZ",
        "colab_type": "code",
        "colab": {}
      },
      "source": [
        "!pip install konlpy"
      ],
      "execution_count": 0,
      "outputs": []
    },
    {
      "cell_type": "code",
      "metadata": {
        "id": "zZgH15Ns9M7o",
        "colab_type": "code",
        "colab": {}
      },
      "source": [
        "!bash <(curl -s https://raw.githubusercontent.com/konlpy/konlpy/master/scripts/mecab.sh)"
      ],
      "execution_count": 0,
      "outputs": []
    },
    {
      "cell_type": "markdown",
      "metadata": {
        "id": "iCflrwrd9PBF",
        "colab_type": "text"
      },
      "source": [
        "mecab 으로 문장을 형태소로 분해"
      ]
    },
    {
      "cell_type": "code",
      "metadata": {
        "id": "75fXjPU39O1h",
        "colab_type": "code",
        "colab": {}
      },
      "source": [
        "from konlpy.tag import Mecab\n",
        "mecab = Mecab()\n",
        "\n",
        "mecab_sentences = [] # mecab으로 형태소 분석 된 문장을 저장\n",
        "\n",
        "def get_pos(sentences): \n",
        "  for sentence in sentences:\n",
        "    mecab_sentences.append(mecab.pos(sentence))\n",
        "\n",
        "get_pos(sentences)"
      ],
      "execution_count": 0,
      "outputs": []
    },
    {
      "cell_type": "markdown",
      "metadata": {
        "id": "PkR2YrTg-WlJ",
        "colab_type": "text"
      },
      "source": [
        "형태소로 분해된 단어를 기반으로 entity 태그 붙혀서 input data 만들기"
      ]
    },
    {
      "cell_type": "code",
      "metadata": {
        "id": "JIjic59x9R9J",
        "colab_type": "code",
        "colab": {}
      },
      "source": [
        "word_pos_entity_all = []\n",
        "\n",
        "idx = 0 # entity로 취급되는 단어 리스트에서 단어를 가져오기 위해 사용하는 인덱스\n",
        "\n",
        "for mecab_sentence in mecab_sentences: # 전체 문장\n",
        "  \n",
        "  word_pos_entity = []\n",
        "  word_len = 0 # 형태소 분해된 단어의 길이\n",
        "  entity_len = 0 # entity 단어의 길이\n",
        "\n",
        "  for word, pos in mecab_sentence: # 문장\n",
        "  \n",
        "    if word in entity_words[idx]: # 형태소가 entity 단어에 포함되면\n",
        "      # 형태소와 entity 단어의 길이를 잰다\n",
        "      word_len += len(word)\n",
        "      entity_len = len(entity_words[idx])\n",
        "      word_pos_entity.append([word, pos, 'I-'+entities[idx]])\n",
        "\n",
        "      # 형태소의 길이와 entity 단어의 길이가 같아지면 인덱스가 다음 entity 단어를 가리키게 +1을 해준다\n",
        "      if word_len == entity_len: \n",
        "        word_len = 0\n",
        "        entity_len = 0\n",
        "        idx += 1\n",
        "    # 형태소가 entity가 아닌 경우\n",
        "    else:\n",
        "      word_pos_entity.append([word, pos, 'O']) \n",
        "  \n",
        "  word_pos_entity_all.append(word_pos_entity)"
      ],
      "execution_count": 0,
      "outputs": []
    },
    {
      "cell_type": "markdown",
      "metadata": {
        "id": "ehTDU9XJ-gu7",
        "colab_type": "text"
      },
      "source": [
        "만든 데이터 확인"
      ]
    },
    {
      "cell_type": "code",
      "metadata": {
        "id": "HVEA1hib9U5K",
        "colab_type": "code",
        "colab": {}
      },
      "source": [
        "word_pos_entity_all[0]"
      ],
      "execution_count": 0,
      "outputs": []
    }
  ]
}